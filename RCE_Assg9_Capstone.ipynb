{
 "cells": [
  {
   "cell_type": "markdown",
   "metadata": {
    "collapsed": true
   },
   "source": [
    "<a href=\"http://www.google.com\"><img src=\"https://66.media.tumblr.com/73c1c351629ba57e0ccfd57713034b6e/tumblr_or372uhplh1r09u5ko1_1280.jpg\" width=\"400\" align=\"center\"></a>\n"
   ]
  },
  {
   "cell_type": "markdown",
   "metadata": {},
   "source": [
    "<h1 align=\"center\"><font size=\"6\">Capstone Project (RCE)</font></h1> \n",
    "<h1 align=\"center\"><font size=\"8\">The Battle of the neighborhoods</font></h1>"
   ]
  },
  {
   "cell_type": "markdown",
   "metadata": {},
   "source": [
    "This notebook is for the capstone project named <font color = 'red'>__The Battle of the neighborhoods__</font>. \n",
    "The aim of the work is to learn how to segment a city like Toronto different neighborhoods using the geographical coordinates of the center of each neighborhood, <br> and then using a combination of location data and machine learning to group the neighbourhoods into clusters.\n"
   ]
  },
  {
   "cell_type": "markdown",
   "metadata": {},
   "source": [
    "The capstone will provide some models allowing for example : \n",
    " - to compare different neighborhoods in terms of a service, \n",
    " - to search for potential explanation of why a neighborhood is popular, \n",
    " - the cause of complaints in another neighborhood, or anything else related to neighborhoods"
   ]
  },
  {
   "cell_type": "markdown",
   "metadata": {},
   "source": [
    "In the first three modules of the capstone, additional skills will be needed to face the remaining two modules. It will be discussed subject like : \n",
    "1. _Location Data Provider_\n",
    "2. _Foursquare_\n",
    "3. _Neighborhood Segmentation and Clustering techniques_\n",
    "***\n",
    "***"
   ]
  },
  {
   "cell_type": "code",
   "execution_count": 3,
   "metadata": {},
   "outputs": [
    {
     "name": "stdout",
     "output_type": "stream",
     "text": [
      "Hello Capstone Project Course!\n"
     ]
    }
   ],
   "source": [
    "import numpy as np\n",
    "import pandas as pd\n",
    "\n",
    "print (\"Hello Capstone Project Course!\")"
   ]
  },
  {
   "cell_type": "code",
   "execution_count": null,
   "metadata": {},
   "outputs": [],
   "source": []
  }
 ],
 "metadata": {
  "kernelspec": {
   "display_name": "Python 3.5",
   "language": "python",
   "name": "python3"
  },
  "language_info": {
   "codemirror_mode": {
    "name": "ipython",
    "version": 3
   },
   "file_extension": ".py",
   "mimetype": "text/x-python",
   "name": "python",
   "nbconvert_exporter": "python",
   "pygments_lexer": "ipython3",
   "version": "3.5.5"
  }
 },
 "nbformat": 4,
 "nbformat_minor": 1
}
