{
    "nbformat_minor": 1, 
    "cells": [
        {
            "source": "<a href=\"http://www.google.com\"><img src=\"https://66.media.tumblr.com/73c1c351629ba57e0ccfd57713034b6e/tumblr_or372uhplh1r09u5ko1_1280.jpg\" width=\"400\" align=\"center\"></a>\n", 
            "cell_type": "markdown", 
            "metadata": {
                "collapsed": true
            }
        }, 
        {
            "source": "<h1 align=\"center\"><font size=\"6\"><font color=green>Capstone Project (RCE)</font></h1> \n<h1 align=\"center\"><font size=\"8\">The Battle of the neighborhoods</font></h1>", 
            "cell_type": "markdown", 
            "metadata": {}
        }, 
        {
            "source": "This notebook is for the capstone project named <font color = 'red'>__The Battle of the neighborhoods__</font>. \nThe aim of the work is to learn how to segment a city like Toronto different neighborhoods using the geographical coordinates of the center of each neighborhood, <br> and then using a combination of location data and machine learning to group the neighbourhoods into clusters.\n", 
            "cell_type": "markdown", 
            "metadata": {}
        }, 
        {
            "source": "The capstone will provide some models allowing for example : \n - to compare different neighborhoods in terms of a service, \n - to search for potential explanation of why a neighborhood is popular, \n - the cause of complaints in another neighborhood, or anything else related to neighborhoods", 
            "cell_type": "markdown", 
            "metadata": {}
        }, 
        {
            "source": "In the first three modules of the capstone, additional skills will be needed to face the remaining two modules. It will be discussed subject like : \n1. _Location Data Provider_\n2. _Foursquare_\n3. _Neighborhood Segmentation and Clustering techniques_\n***\n***", 
            "cell_type": "markdown", 
            "metadata": {}
        }, 
        {
            "source": "import numpy as np\nimport pandas as pd\n\nprint (\"Hello Capstone Project Course!\")", 
            "cell_type": "code", 
            "metadata": {}, 
            "outputs": [], 
            "execution_count": null
        }, 
        {
            "source": "", 
            "cell_type": "code", 
            "metadata": {}, 
            "outputs": [], 
            "execution_count": null
        }
    ], 
    "metadata": {
        "kernelspec": {
            "display_name": "Python 3.5", 
            "name": "python3", 
            "language": "python"
        }, 
        "language_info": {
            "mimetype": "text/x-python", 
            "nbconvert_exporter": "python", 
            "version": "3.5.5", 
            "name": "python", 
            "file_extension": ".py", 
            "pygments_lexer": "ipython3", 
            "codemirror_mode": {
                "version": 3, 
                "name": "ipython"
            }
        }
    }, 
    "nbformat": 4
}